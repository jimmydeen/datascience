{
 "cells": [
  {
   "cell_type": "markdown",
   "metadata": {},
   "source": [
    "# Python Introduction"
   ]
  },
  {
   "cell_type": "markdown",
   "metadata": {},
   "source": [
    "In this notebook, we will go over some fundamental programming concepts in Python. We will also discuss some useful shortcuts for working with Jupyter notebooks. "
   ]
  },
  {
   "cell_type": "markdown",
   "metadata": {},
   "source": [
    "## Contents"
   ]
  },
  {
   "cell_type": "markdown",
   "metadata": {},
   "source": [
    "* Variables\n",
    "* Operations\n",
    "* Methods\n",
    "* Commenting\n",
    "* Booleans\n",
    "* Loops\n",
    "* Jupyter shortcuts"
   ]
  },
  {
   "cell_type": "markdown",
   "metadata": {},
   "source": [
    "## Variables\n",
    "\n",
    "* Variables store information that can be used and/or changed in your program or script. This information can be an integer, text, collection, etc.\n",
    "* Variables are used to hold user inputs, local states of your program, etc.\n",
    "* Variables have a name so that they can be referenced in the code.\n",
    "* The fundamental concept to understand is that everything is an object in Python.\n",
    "\n",
    "__Python supports numbers, strings, sets, lists, tuples, and dictionaries. These are the standard data types. We will explain some of these in detail in this lesson.__\n",
    "\n",
    "### Declare and Assign Value to a Variable\n",
    "\n",
    "Assignment sets a value to a variable.\n",
    "\n",
    "To assign variable a value, use the equals sign (=)"
   ]
  },
  {
   "cell_type": "code",
   "execution_count": 1,
   "metadata": {},
   "outputs": [
    {
     "name": "stdout",
     "output_type": "stream",
     "text": [
      "Hello You 2\n"
     ]
    }
   ],
   "source": [
    "myFirstVariable = 1\n",
    "mySecondVariable = 2\n",
    "myFirstVariable = \"Hello You\"\n",
    "print(myFirstVariable,mySecondVariable) # print arguments to standard output or screen"
   ]
  },
  {
   "cell_type": "markdown",
   "metadata": {},
   "source": [
    "Note that comments can be included in code by inserting a #. Everything after this on the line is ignored.\n",
    "\n",
    "Assigning a value is known as __binding__ in Python. In the example above, we have assigned the value of 2 to mySecondVariable.\n",
    "\n",
    "Note how we assigned an integer value of 1 and then a string value of “Hello You” to the same myFirstVariable variable. This is possible due to the fact that the data types are dynamically typed in python. This is why Python is known as a dynamically typed programming language.\n",
    "\n",
    "If you want to assign the same value to more than one variables then you can use the chained assignment:"
   ]
  },
  {
   "cell_type": "code",
   "execution_count": 2,
   "metadata": {},
   "outputs": [],
   "source": [
    "myFirstVariable = mySecondVariable = 1"
   ]
  },
  {
   "cell_type": "markdown",
   "metadata": {},
   "source": [
    "### Numeric\n",
    "\n",
    "Integers and floats (floating point numbers) are supported."
   ]
  },
  {
   "cell_type": "code",
   "execution_count": 3,
   "metadata": {},
   "outputs": [
    {
     "name": "stdout",
     "output_type": "stream",
     "text": [
      "An example of an integer is 1\n",
      "An example of a float is 1.2\n"
     ]
    }
   ],
   "source": [
    "value1 = 1 # integer\n",
    "value2 = 1.2 # float with a floating point\n",
    "print('An example of an integer is',value1)\n",
    "print('An example of a float is',value2)"
   ]
  },
  {
   "cell_type": "markdown",
   "metadata": {},
   "source": [
    "### Strings\n",
    "\n",
    "* Textual information. Not limited to letters.\n",
    "* A string is an list of characters.\n",
    "* A string value is enclosed in quotation marks: single, double or triple quotes."
   ]
  },
  {
   "cell_type": "code",
   "execution_count": null,
   "metadata": {},
   "outputs": [],
   "source": [
    "name = 'zach'\n",
    "name = \"zach\"\n",
    "name = \"\"\"zach\"\"\""
   ]
  },
  {
   "cell_type": "markdown",
   "metadata": {},
   "source": [
    "* Strings are immutable. Once they are created, they cannot be changed, e.g., if we try to change the second character of the string (array notation will be explained later), we will get an error."
   ]
  },
  {
   "cell_type": "code",
   "execution_count": 4,
   "metadata": {},
   "outputs": [
    {
     "ename": "TypeError",
     "evalue": "'str' object does not support item assignment",
     "output_type": "error",
     "traceback": [
      "\u001b[0;31m---------------------------------------------------------------------------\u001b[0m",
      "\u001b[0;31mTypeError\u001b[0m                                 Traceback (most recent call last)",
      "\u001b[0;32m<ipython-input-4-2f3bea8f29c6>\u001b[0m in \u001b[0;36m<module>\u001b[0;34m\u001b[0m\n\u001b[1;32m      1\u001b[0m \u001b[0ma\u001b[0m \u001b[0;34m=\u001b[0m \u001b[0;34m'me'\u001b[0m \u001b[0;31m# Updating it will fail:\u001b[0m\u001b[0;34m\u001b[0m\u001b[0;34m\u001b[0m\u001b[0m\n\u001b[0;32m----> 2\u001b[0;31m \u001b[0ma\u001b[0m\u001b[0;34m[\u001b[0m\u001b[0;36m1\u001b[0m\u001b[0;34m]\u001b[0m \u001b[0;34m=\u001b[0m \u001b[0;34m'y'\u001b[0m \u001b[0;31m# Will throw a Type Error\u001b[0m\u001b[0;34m\u001b[0m\u001b[0;34m\u001b[0m\u001b[0m\n\u001b[0m",
      "\u001b[0;31mTypeError\u001b[0m: 'str' object does not support item assignment"
     ]
    }
   ],
   "source": [
    "a = 'me' # Updating it will fail: \n",
    "a[1] = 'y' # Will throw a Type Error"
   ]
  },
  {
   "cell_type": "markdown",
   "metadata": {},
   "source": [
    "* When string variables are assigned a new value then Python creates a new object to store the value. Therefore a reference (pointer) to an object is created. This pointer is then assigned to the variable and as a result, the variable can be used.\n",
    "\n",
    "* We can also assign one variable to another variable. All it does is that a new pointer is created which points to the same object:\n"
   ]
  },
  {
   "cell_type": "code",
   "execution_count": 5,
   "metadata": {},
   "outputs": [
    {
     "name": "stdout",
     "output_type": "stream",
     "text": [
      "beta alpha\n"
     ]
    }
   ],
   "source": [
    "a = 'alpha' \n",
    "b = a \n",
    "a = 'beta'\n",
    "print(a,b)"
   ]
  },
  {
   "cell_type": "markdown",
   "metadata": {},
   "source": [
    "### Finding Variable Type\n",
    "\n",
    "If you want to find type of a variable, you can use the`type` function:\n"
   ]
  },
  {
   "cell_type": "code",
   "execution_count": 7,
   "metadata": {},
   "outputs": [
    {
     "data": {
      "text/plain": [
       "int"
      ]
     },
     "execution_count": 7,
     "metadata": {},
     "output_type": "execute_result"
    }
   ],
   "source": [
    "type('jonathon') # Returns <type 'str'>\n",
    "type(7)"
   ]
  },
  {
   "cell_type": "markdown",
   "metadata": {},
   "source": [
    "## Operations\n",
    "\n",
    "* These allow us to perform computation on variables\n",
    "\n",
    "### Numeric Operations\n",
    "\n",
    "* Python supports the standard algebraic operations *, /, +, -\n",
    "* Python also supports floor division // (division rounded __down__ to the next integer)"
   ]
  },
  {
   "cell_type": "code",
   "execution_count": 9,
   "metadata": {},
   "outputs": [
    {
     "name": "stdout",
     "output_type": "stream",
     "text": [
      "0\n",
      "0.3333333333333333\n"
     ]
    },
    {
     "data": {
      "text/plain": [
       "0.3333333333333333"
      ]
     },
     "execution_count": 9,
     "metadata": {},
     "output_type": "execute_result"
    }
   ],
   "source": [
    "print(1//3)  #returns 0\n",
    "print(1/3) #returns 0.333 \n",
    "\n",
    "1/3"
   ]
  },
  {
   "cell_type": "markdown",
   "metadata": {},
   "source": [
    "Note: the return type of division is always float as shown below:"
   ]
  },
  {
   "cell_type": "code",
   "execution_count": null,
   "metadata": {},
   "outputs": [],
   "source": [
    "a = 10/5\n",
    "print(type(a)) # prints float"
   ]
  },
  {
   "cell_type": "markdown",
   "metadata": {},
   "source": [
    "Also, Python supports exponentiation via `**` operator:"
   ]
  },
  {
   "cell_type": "code",
   "execution_count": 10,
   "metadata": {},
   "outputs": [
    {
     "name": "stdout",
     "output_type": "stream",
     "text": [
      "8\n"
     ]
    }
   ],
   "source": [
    "print(2**3)"
   ]
  },
  {
   "cell_type": "markdown",
   "metadata": {},
   "source": [
    "and the Modulus (remainder) operator:"
   ]
  },
  {
   "cell_type": "code",
   "execution_count": 11,
   "metadata": {},
   "outputs": [
    {
     "name": "stdout",
     "output_type": "stream",
     "text": [
      "1\n"
     ]
    }
   ],
   "source": [
    "print(7%2) # (7/2-7//2)*2 = 1"
   ]
  },
  {
   "cell_type": "markdown",
   "metadata": {},
   "source": [
    "The common operators also support augmented expressions. For example, `a+1` can be written as"
   ]
  },
  {
   "cell_type": "code",
   "execution_count": 12,
   "metadata": {},
   "outputs": [
    {
     "name": "stdout",
     "output_type": "stream",
     "text": [
      "3\n"
     ]
    }
   ],
   "source": [
    "a = 2\n",
    "a += 1 # shorthand for a = a+1\n",
    "print(a)"
   ]
  },
  {
   "cell_type": "markdown",
   "metadata": {},
   "source": [
    "## Methods\n",
    "\n",
    "We have already seen examples of functions such as `print()` and `type()`.\n",
    "\n",
    "Each class or type of variable has a set of functions that are built in to their implementation. These are called *methods* and are invoked by first calling the variable and then following that with a period and then the function name. \n",
    "\n",
    "For example, there are number of methods for changing the case of strings:"
   ]
  },
  {
   "cell_type": "code",
   "execution_count": 13,
   "metadata": {},
   "outputs": [
    {
     "name": "stdout",
     "output_type": "stream",
     "text": [
      "hello world!\n",
      "HELLO WORLD!\n",
      "hEllO wORLd!\n"
     ]
    }
   ],
   "source": [
    "myString = \"HeLLo WorlD!\"\n",
    "print(myString.lower()) # convert string to lower case\n",
    "print(myString.upper()) # convert string to upper case\n",
    "print(myString.swapcase()) # swap the case of all the letters"
   ]
  },
  {
   "cell_type": "markdown",
   "metadata": {},
   "source": [
    "### String Operations\n",
    "\n",
    "Some other string operations include, concatenating strings, i.e., adding them together to create a new string:"
   ]
  },
  {
   "cell_type": "code",
   "execution_count": 14,
   "metadata": {},
   "outputs": [
    {
     "name": "stdout",
     "output_type": "stream",
     "text": [
      "AB\n"
     ]
    }
   ],
   "source": [
    "print('A' + 'B')"
   ]
  },
  {
   "cell_type": "markdown",
   "metadata": {},
   "source": [
    "Remember a string is an immutable data type, therefore, concatenating strings creates a new string object.\n",
    "\n",
    "Repeating strings, e.g., ‘A’*3 will repeat A three times:"
   ]
  },
  {
   "cell_type": "code",
   "execution_count": 15,
   "metadata": {},
   "outputs": [
    {
     "name": "stdout",
     "output_type": "stream",
     "text": [
      "AAA\n"
     ]
    }
   ],
   "source": [
    "print('A'*3)"
   ]
  },
  {
   "cell_type": "markdown",
   "metadata": {},
   "source": [
    "#### Slicing:\n",
    "\n",
    "Each element in a string or list gets two indexes:\n",
    "* From left to right, the index starts at 0 and increments by 1\n",
    "* From right to left, the index starts at -1 and decrements by 1\n",
    "* Therefore,  `y[0]` and `y[-len(y)]` both will return the same value:"
   ]
  },
  {
   "cell_type": "code",
   "execution_count": 17,
   "metadata": {
    "scrolled": true
   },
   "outputs": [
    {
     "name": "stdout",
     "output_type": "stream",
     "text": [
      "a\n",
      "a\n",
      "a\n"
     ]
    }
   ],
   "source": [
    "y = 'abc'\n",
    "print(y[0])\n",
    "print(y[-len(y)])\n",
    "print(y[-3])"
   ]
  },
  {
   "cell_type": "markdown",
   "metadata": {},
   "source": [
    "We can access a substring of a string (or a list) using:\n",
    "\n",
    "`string[start:end:step]`\n",
    "\n",
    "This returns the characters in the string starting at `start` and up to, but not including, `end`, in steps of `step`. Each of the arguments, and the last semi-colon, are optional. The default values are `start=0`, `end=len(string)` and `step=1`."
   ]
  },
  {
   "cell_type": "code",
   "execution_count": 18,
   "metadata": {},
   "outputs": [
    {
     "name": "stdout",
     "output_type": "stream",
     "text": [
      "Ac\n",
      "bc\n",
      "Ab\n"
     ]
    }
   ],
   "source": [
    "y = 'Abc'\n",
    "print(y[0::2]) # print every second character up to the end\n",
    "print(y[1:]) # print from the second character to the end\n",
    "print(y[:2]) # print up to the second character"
   ]
  },
  {
   "cell_type": "markdown",
   "metadata": {},
   "source": [
    "#### Reversing\n",
    "\n",
    "Using this slicing with negative steps we can reverse a string:"
   ]
  },
  {
   "cell_type": "code",
   "execution_count": 19,
   "metadata": {},
   "outputs": [
    {
     "name": "stdout",
     "output_type": "stream",
     "text": [
      "cba\n"
     ]
    }
   ],
   "source": [
    "x = 'abc'\n",
    "print(x[::-1]) # since the step is negative, start at the end and increment to the start"
   ]
  },
  {
   "cell_type": "markdown",
   "metadata": {},
   "source": [
    "#### Negative Index\n",
    "\n",
    "If you want to start from the last character then use negative index."
   ]
  },
  {
   "cell_type": "code",
   "execution_count": 20,
   "metadata": {},
   "outputs": [
    {
     "name": "stdout",
     "output_type": "stream",
     "text": [
      "cb\n"
     ]
    }
   ],
   "source": [
    "y = 'abc'\n",
    "print(y[-1:0:-1]) # will return cb, same as print(y[-1:-3:-1])"
   ]
  },
  {
   "cell_type": "markdown",
   "metadata": {},
   "source": [
    "#### Finding Index\n",
    "\n",
    "To find the occurence of a character in a string we can use the find method. The second and third arguments, which are optional, tell where to start and end the search. \n",
    "\n",
    "Remember indices start at 0, and this just tells you the first occurence of the character. For finding multiple characters, it tells where the character starts."
   ]
  },
  {
   "cell_type": "code",
   "execution_count": 21,
   "metadata": {},
   "outputs": [
    {
     "name": "stdout",
     "output_type": "stream",
     "text": [
      "7\n",
      "9\n",
      "11\n"
     ]
    }
   ],
   "source": [
    "name = \"rumpelstiltskin\"\n",
    "print(name.find('t')) \n",
    "print(name.find('l',7,10)) # finds index of l, starting at name[7] and ending at name[10]\n",
    "print(name.find('skin')) "
   ]
  },
  {
   "cell_type": "markdown",
   "metadata": {},
   "source": [
    "    \n",
    "#### Casting\n",
    "\n",
    "To __cast__ (convert between types cast) we can use the functions:\n",
    "\n",
    "* `str(x)`: convert to string\n",
    "* `int(x)`: convert to integer\n",
    "* `float(x)`: convert to floats\n",
    "    "
   ]
  },
  {
   "cell_type": "markdown",
   "metadata": {},
   "source": [
    "## Comments and Line Continuation\n",
    "\n",
    "Rule number of one of coding or programming is that your code should always be commented to explain what it does.\n",
    "\n",
    "### Single Line Comments"
   ]
  },
  {
   "cell_type": "code",
   "execution_count": null,
   "metadata": {},
   "outputs": [],
   "source": [
    "# this is a single line comment"
   ]
  },
  {
   "cell_type": "markdown",
   "metadata": {},
   "source": [
    "### Multiple Line Comments\n",
    "\n",
    "For long comments we can use triple quotes. In the output \\n represents the carriage return character."
   ]
  },
  {
   "cell_type": "code",
   "execution_count": null,
   "metadata": {},
   "outputs": [],
   "source": [
    "'''this is a multi\n",
    "line\n",
    "comment'''"
   ]
  },
  {
   "cell_type": "markdown",
   "metadata": {},
   "source": [
    "### Line Continuation\n",
    "\n",
    "Long expressions can be continued over multiple lines by enclosing them in parentheses:"
   ]
  },
  {
   "cell_type": "code",
   "execution_count": 22,
   "metadata": {},
   "outputs": [
    {
     "name": "stdout",
     "output_type": "stream",
     "text": [
      "-197.0\n"
     ]
    }
   ],
   "source": [
    "a = (25*10+6/2\n",
    "     -450)\n",
    "print(a)"
   ]
  },
  {
   "cell_type": "markdown",
   "metadata": {},
   "source": [
    "or using a backslash: "
   ]
  },
  {
   "cell_type": "code",
   "execution_count": 23,
   "metadata": {},
   "outputs": [
    {
     "name": "stdout",
     "output_type": "stream",
     "text": [
      "-197.0\n"
     ]
    }
   ],
   "source": [
    "# no characters can appear after the backslash\n",
    "a = 25*10+6/2 \\\n",
    "    -450\n",
    "print(a)"
   ]
  },
  {
   "cell_type": "markdown",
   "metadata": {},
   "source": [
    "## Boolean Expressions\n",
    "\n",
    "Expressions can perform Boolean operations such as:\n",
    "* Equality: `==`\n",
    "* Not Equal: `!=`\n",
    "* Greater Than: `>`\n",
    "* Less Than: `<`\n",
    "* Greater Than Or Equal: `>=`\n",
    "* Less Than Or Equal: `<=`\n",
    "\n",
    "We can compare numbers and assign Boolean variables (True or False):"
   ]
  },
  {
   "cell_type": "code",
   "execution_count": 24,
   "metadata": {},
   "outputs": [
    {
     "name": "stdout",
     "output_type": "stream",
     "text": [
      "False\n",
      "True\n",
      "c =  False\n"
     ]
    }
   ],
   "source": [
    "a = 1\n",
    "b = 2\n",
    "print(a==b) # test whether a is equal to b\n",
    "print(a<=b) # test whether a is less than or equal to b\n",
    "c = a>b     # c is a Boolean variable\n",
    "print('c = ',c)"
   ]
  },
  {
   "cell_type": "markdown",
   "metadata": {},
   "source": [
    "## Conditions\n",
    "\n",
    "To write a process based on tests of the values of variables, we can use the if then else construct. The construct is created by including a colon at the conclusion of each test and indenting the statements to be performed by four characters immediately below the test. Once you enter the colon, Jupyter will automatically indent the following lines until the user chooses otherwise."
   ]
  },
  {
   "cell_type": "code",
   "execution_count": 25,
   "metadata": {},
   "outputs": [
    {
     "name": "stdout",
     "output_type": "stream",
     "text": [
      "a is greater than b\n",
      "5 4\n"
     ]
    }
   ],
   "source": [
    "a = 5\n",
    "b = 4\n",
    "if a == b:\n",
    "    print('a is b')\n",
    "elif a < b:\n",
    "    print('a is less than b')\n",
    "elif a > b:\n",
    "    print('a is greater than b') \n",
    "    print(a,b)\n",
    "else:\n",
    "    print('a is different') \n"
   ]
  },
  {
   "cell_type": "markdown",
   "metadata": {},
   "source": [
    "You can also add conditional logic in each part of the if then else construct. This is known as a nested condition."
   ]
  },
  {
   "cell_type": "code",
   "execution_count": 26,
   "metadata": {},
   "outputs": [
    {
     "name": "stdout",
     "output_type": "stream",
     "text": [
      "within else of else\n"
     ]
    }
   ],
   "source": [
    "a = 5\n",
    "b = 4\n",
    "if a == b:\n",
    "    print('a is b')\n",
    "#let's write conditions within else\n",
    "else:\n",
    "    if a == 2:\n",
    "        print('within if of else')\n",
    "    else:\n",
    "        print('within else of else')"
   ]
  },
  {
   "cell_type": "markdown",
   "metadata": {},
   "source": [
    "## Loops\n",
    "\n",
    "To repeat a process we can use while or for loops. Again these use indentation and colons to define the loop process.\n",
    "\n",
    "### While\n",
    "\n",
    "Here we provide a condition and run the loop until the condition is met:"
   ]
  },
  {
   "cell_type": "code",
   "execution_count": 27,
   "metadata": {},
   "outputs": [
    {
     "name": "stdout",
     "output_type": "stream",
     "text": [
      "2\n",
      "1\n"
     ]
    }
   ],
   "source": [
    "input=2\n",
    "while (input > 0): # test whether the input is negative\n",
    "    print(input)\n",
    "    input = input-1"
   ]
  },
  {
   "cell_type": "markdown",
   "metadata": {},
   "source": [
    "### For\n",
    "\n",
    "To loop over some statements a number of times, we can use the for loops. The object `[0,1,2,3,4]` is an array and what we are telling Python to do is let `i` be each element in that array, and stop when we get to the end of the array."
   ]
  },
  {
   "cell_type": "code",
   "execution_count": 28,
   "metadata": {},
   "outputs": [
    {
     "name": "stdout",
     "output_type": "stream",
     "text": [
      "0\n",
      "1\n",
      "2\n",
      "3\n",
      "4\n"
     ]
    }
   ],
   "source": [
    "for i in [0,1,2,3,4]:\n",
    "    print(i)"
   ]
  },
  {
   "cell_type": "markdown",
   "metadata": {},
   "source": [
    "Or we can use the range function:\n",
    "\n",
    "`range(start, stop, step):`\n",
    "\n",
    "This generates numerical values that commence at `start` (inclusive), finish at `stop` (exclusive) with the steps `step`. For example, to generate and view\n",
    "odd numbers from 1 to 9, do:"
   ]
  },
  {
   "cell_type": "code",
   "execution_count": 29,
   "metadata": {},
   "outputs": [
    {
     "data": {
      "text/plain": [
       "[1, 3, 5, 7, 9]"
      ]
     },
     "execution_count": 29,
     "metadata": {},
     "output_type": "execute_result"
    }
   ],
   "source": [
    "list(range(1,10,2))"
   ]
  },
  {
   "cell_type": "code",
   "execution_count": 30,
   "metadata": {},
   "outputs": [
    {
     "name": "stdout",
     "output_type": "stream",
     "text": [
      "0\n",
      "1\n",
      "2\n",
      "3\n",
      "4\n"
     ]
    }
   ],
   "source": [
    "for i in range(0,5):\n",
    "    print(i)"
   ]
  },
  {
   "cell_type": "markdown",
   "metadata": {},
   "source": [
    "We can loop over items or characters of a string, since strings are just arrays of characters. "
   ]
  },
  {
   "cell_type": "code",
   "execution_count": 31,
   "metadata": {},
   "outputs": [
    {
     "name": "stdout",
     "output_type": "stream",
     "text": [
      "h\n",
      "e\n",
      "l\n",
      "l\n",
      "o\n"
     ]
    }
   ],
   "source": [
    "for letter in 'hello':\n",
    "    print(letter)"
   ]
  },
  {
   "cell_type": "markdown",
   "metadata": {},
   "source": [
    "### Combine For with If\n",
    "\n",
    "Let’s do a simple exercise to find if a character is in two words"
   ]
  },
  {
   "cell_type": "code",
   "execution_count": 32,
   "metadata": {},
   "outputs": [
    {
     "name": "stdout",
     "output_type": "stream",
     "text": [
      "o\n",
      "n\n",
      "e\n",
      "n\n",
      "a\n",
      "m\n",
      "e\n"
     ]
    }
   ],
   "source": [
    "name = 'onename'\n",
    "anothername = 'onenameonename'\n",
    "for character in name: # loop through each character in the string name\n",
    "    if character in anothername: # check if the character is in the string anothername\n",
    "        print(character) # print the character if true"
   ]
  },
  {
   "cell_type": "markdown",
   "metadata": {},
   "source": [
    "### Break\n",
    "\n",
    "If you want to end a for or while loop we can use the break construct."
   ]
  },
  {
   "cell_type": "code",
   "execution_count": 33,
   "metadata": {},
   "outputs": [
    {
     "name": "stdout",
     "output_type": "stream",
     "text": [
      "0\n",
      "1\n",
      "2\n",
      "3\n",
      "4\n",
      "5\n"
     ]
    }
   ],
   "source": [
    "for i in range(0,10):\n",
    "    print(i)\n",
    "    if (i==5):\n",
    "        break"
   ]
  },
  {
   "cell_type": "code",
   "execution_count": 34,
   "metadata": {},
   "outputs": [
    {
     "name": "stdout",
     "output_type": "stream",
     "text": [
      "4\n",
      "3\n",
      "2\n",
      "1\n"
     ]
    }
   ],
   "source": [
    "x = 5\n",
    "while True: # do this while loop regardless, since it is always true\n",
    "    x -= 1 # decrease x by one\n",
    "    print(x)\n",
    "    if (x==1): # stop when x = 1\n",
    "        break"
   ]
  },
  {
   "cell_type": "markdown",
   "metadata": {},
   "source": [
    "## Jupyter Shortcuts"
   ]
  },
  {
   "cell_type": "code",
   "execution_count": null,
   "metadata": {},
   "outputs": [],
   "source": [
    "\n",
    "\n",
    "\n",
    "\n",
    "###### Jupyter provides many keyboard shortcuts to make the development of code and notebooks quicker. You can even define your own shortcuts. Below we list a few of the most useful ones. To see more about shortcuts see Menu -> Help -> Keyboard Shortcuts.\n",
    "\n",
    "You may already have noticed that Jupyter has two modes. These are:\n",
    "* Editing mode, where there is a green border around the cell. This mode is activated by clicking on the cell.\n",
    "* Command mode, where there is a blue border around the cell. This is activated by clicking on the cell border. \n",
    "Selecting cells and using the shortcuts occurs in Command mode.\n",
    "\n",
    "The most common shortcuts in Command mode are:\n",
    "* p - open command palette and search for commands (can also click on keyboard icon).\n",
    "* 1-6 - create a heading in the cell of that order. Heading 1 is the top heading, and higher numbers are subheadings.\n",
    "* m - convert the cell to Markdown (documentation mode).\n",
    "* y - convert the cell to code (Python).\n",
    "* r - convert the cell to raw (uninterpreted).\n",
    "* a - insert a cell above the current cell.\n",
    "* b - insert a cell below the current cell.\n",
    "* [Shift][Return] - run the cell and go to the next cell\n",
    "* [Shift]m - merge the selected cells\n",
    "* x - cut the selected cells.\n",
    "* v - paste the selected cells below.\n",
    "* [Shift]v - paste the selected cells above.\n",
    "* d,d - delete selected cells.\n",
    "\n"
   ]
  },
  {
   "cell_type": "code",
   "execution_count": null,
   "metadata": {},
   "outputs": [],
   "source": [
    "## Jupyter Magic Commands"
   ]
  },
  {
   "cell_type": "markdown",
   "metadata": {},
   "source": [
    "Jupyter allows users to interact with the operating system (OS) using the escape character '!'. For example, on Linux or MacOS I can find which directory I am working in and list the contents of the current directory using the following commands:"
   ]
  },
  {
   "cell_type": "code",
   "execution_count": null,
   "metadata": {},
   "outputs": [],
   "source": [
    "!pwd # print current working directory"
   ]
  },
  {
   "cell_type": "code",
   "execution_count": null,
   "metadata": {},
   "outputs": [],
   "source": [
    "!ls # list contents of current directory"
   ]
  },
  {
   "cell_type": "code",
   "execution_count": null,
   "metadata": {},
   "outputs": [],
   "source": []
  },
  {
   "cell_type": "markdown",
   "metadata": {},
   "source": [
    "Howevever if I am working in Windows, these commands will fail, since Windows does not use Unix commands. Instead Jupyter provides the following magic commands to interact with the OS:\n",
    "\n",
    "%cat - print the contents of a file\n",
    "%cd - change to another directory\n",
    "%cp - copy a file to another file\n",
    "%ls - list the contents of the current directory\n",
    "%mkdir - create a sub-directory in the current directory\n",
    "%mv - move or rename a file\n",
    "%pwd - print the current directory\n",
    "%rm - remove a file\n",
    "%rmdir - remove a subdirectory The syntax for each of these can be found by using help() or ?.\n",
    "For example I can interact with the OS, in the following ways (of course there are easier ways to do this, like a GUI):"
   ]
  },
  {
   "cell_type": "code",
   "execution_count": null,
   "metadata": {},
   "outputs": [],
   "source": [
    "%ls # print the contents of the current directory"
   ]
  },
  {
   "cell_type": "code",
   "execution_count": null,
   "metadata": {},
   "outputs": [],
   "source": [
    "%mkdir tmp # make a temporary directory call tmp"
   ]
  },
  {
   "cell_type": "code",
   "execution_count": null,
   "metadata": {},
   "outputs": [],
   "source": [
    "%ls # print the contents again, notice there is the new sub-directory"
   ]
  },
  {
   "cell_type": "code",
   "execution_count": null,
   "metadata": {},
   "outputs": [],
   "source": [
    "%ls tmp # view the contents of the temporary directory"
   ]
  },
  {
   "cell_type": "code",
   "execution_count": null,
   "metadata": {},
   "outputs": [],
   "source": [
    "# change to the temporary directory\n",
    "%cd tmp "
   ]
  },
  {
   "cell_type": "code",
   "execution_count": null,
   "metadata": {},
   "outputs": [],
   "source": [
    "%cat EssayTopic.md # view the file in the current directory"
   ]
  },
  {
   "cell_type": "code",
   "execution_count": null,
   "metadata": {},
   "outputs": [],
   "source": [
    "%rm EssayTopic.md # remove the file we just viewed"
   ]
  },
  {
   "cell_type": "code",
   "execution_count": null,
   "metadata": {},
   "outputs": [],
   "source": [
    "# change to the parent directory\n",
    "%cd ../ "
   ]
  },
  {
   "cell_type": "code",
   "execution_count": null,
   "metadata": {},
   "outputs": [],
   "source": [
    "%rmdir tmp/ # remove the temporary directory"
   ]
  },
  {
   "cell_type": "code",
   "execution_count": null,
   "metadata": {},
   "outputs": [],
   "source": [
    "%ls # print the contents of directory, which now does not have a tmp directory"
   ]
  },
  {
   "cell_type": "markdown",
   "metadata": {},
   "source": [
    "Jupyter has many other magic commands, which can be investigated using the command %magic."
   ]
  },
  {
   "cell_type": "code",
   "execution_count": null,
   "metadata": {},
   "outputs": [],
   "source": [
    "%magic"
   ]
  }
 ],
 "metadata": {
  "kernelspec": {
   "display_name": "Python 3 (ipykernel)",
   "language": "python",
   "name": "python3"
  },
  "language_info": {
   "codemirror_mode": {
    "name": "ipython",
    "version": 3
   },
   "file_extension": ".py",
   "mimetype": "text/x-python",
   "name": "python",
   "nbconvert_exporter": "python",
   "pygments_lexer": "ipython3",
   "version": "3.9.7"
  }
 },
 "nbformat": 4,
 "nbformat_minor": 2
}
