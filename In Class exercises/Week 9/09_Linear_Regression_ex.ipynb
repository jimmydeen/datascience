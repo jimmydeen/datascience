{
 "cells": [
  {
   "cell_type": "markdown",
   "metadata": {},
   "source": [
    "# Linear Regression "
   ]
  },
  {
   "cell_type": "markdown",
   "metadata": {},
   "source": [
    "## Exercises"
   ]
  },
  {
   "cell_type": "markdown",
   "metadata": {},
   "source": [
    "### Exercise 1\n",
    "\n",
    "Using the diabetes data, construct a regression model that regresses the outcome variable Y on BMI and S5 using training and test data. Interpret the regression coefficients. Compare the testing scores of this model to those from the last example in the notebook. Which model performs better?\n"
   ]
  },
  {
   "cell_type": "code",
   "execution_count": 13,
   "metadata": {},
   "outputs": [
    {
     "data": {
      "text/html": [
       "<div>\n",
       "<style scoped>\n",
       "    .dataframe tbody tr th:only-of-type {\n",
       "        vertical-align: middle;\n",
       "    }\n",
       "\n",
       "    .dataframe tbody tr th {\n",
       "        vertical-align: top;\n",
       "    }\n",
       "\n",
       "    .dataframe thead th {\n",
       "        text-align: right;\n",
       "    }\n",
       "</style>\n",
       "<table border=\"1\" class=\"dataframe\">\n",
       "  <thead>\n",
       "    <tr style=\"text-align: right;\">\n",
       "      <th></th>\n",
       "      <th>AGE</th>\n",
       "      <th>SEX</th>\n",
       "      <th>BMI</th>\n",
       "      <th>BP</th>\n",
       "      <th>S1</th>\n",
       "      <th>S2</th>\n",
       "      <th>S3</th>\n",
       "      <th>S4</th>\n",
       "      <th>S5</th>\n",
       "      <th>S6</th>\n",
       "      <th>Y</th>\n",
       "    </tr>\n",
       "  </thead>\n",
       "  <tbody>\n",
       "    <tr>\n",
       "      <th>0</th>\n",
       "      <td>59</td>\n",
       "      <td>2</td>\n",
       "      <td>32.1</td>\n",
       "      <td>101.00</td>\n",
       "      <td>157</td>\n",
       "      <td>93.2</td>\n",
       "      <td>38.0</td>\n",
       "      <td>4.00</td>\n",
       "      <td>4.8598</td>\n",
       "      <td>87</td>\n",
       "      <td>151</td>\n",
       "    </tr>\n",
       "    <tr>\n",
       "      <th>1</th>\n",
       "      <td>48</td>\n",
       "      <td>1</td>\n",
       "      <td>21.6</td>\n",
       "      <td>87.00</td>\n",
       "      <td>183</td>\n",
       "      <td>103.2</td>\n",
       "      <td>70.0</td>\n",
       "      <td>3.00</td>\n",
       "      <td>3.8918</td>\n",
       "      <td>69</td>\n",
       "      <td>75</td>\n",
       "    </tr>\n",
       "    <tr>\n",
       "      <th>2</th>\n",
       "      <td>72</td>\n",
       "      <td>2</td>\n",
       "      <td>30.5</td>\n",
       "      <td>93.00</td>\n",
       "      <td>156</td>\n",
       "      <td>93.6</td>\n",
       "      <td>41.0</td>\n",
       "      <td>4.00</td>\n",
       "      <td>4.6728</td>\n",
       "      <td>85</td>\n",
       "      <td>141</td>\n",
       "    </tr>\n",
       "    <tr>\n",
       "      <th>3</th>\n",
       "      <td>24</td>\n",
       "      <td>1</td>\n",
       "      <td>25.3</td>\n",
       "      <td>84.00</td>\n",
       "      <td>198</td>\n",
       "      <td>131.4</td>\n",
       "      <td>40.0</td>\n",
       "      <td>5.00</td>\n",
       "      <td>4.8903</td>\n",
       "      <td>89</td>\n",
       "      <td>206</td>\n",
       "    </tr>\n",
       "    <tr>\n",
       "      <th>4</th>\n",
       "      <td>50</td>\n",
       "      <td>1</td>\n",
       "      <td>23.0</td>\n",
       "      <td>101.00</td>\n",
       "      <td>192</td>\n",
       "      <td>125.4</td>\n",
       "      <td>52.0</td>\n",
       "      <td>4.00</td>\n",
       "      <td>4.2905</td>\n",
       "      <td>80</td>\n",
       "      <td>135</td>\n",
       "    </tr>\n",
       "    <tr>\n",
       "      <th>...</th>\n",
       "      <td>...</td>\n",
       "      <td>...</td>\n",
       "      <td>...</td>\n",
       "      <td>...</td>\n",
       "      <td>...</td>\n",
       "      <td>...</td>\n",
       "      <td>...</td>\n",
       "      <td>...</td>\n",
       "      <td>...</td>\n",
       "      <td>...</td>\n",
       "      <td>...</td>\n",
       "    </tr>\n",
       "    <tr>\n",
       "      <th>437</th>\n",
       "      <td>60</td>\n",
       "      <td>2</td>\n",
       "      <td>28.2</td>\n",
       "      <td>112.00</td>\n",
       "      <td>185</td>\n",
       "      <td>113.8</td>\n",
       "      <td>42.0</td>\n",
       "      <td>4.00</td>\n",
       "      <td>4.9836</td>\n",
       "      <td>93</td>\n",
       "      <td>178</td>\n",
       "    </tr>\n",
       "    <tr>\n",
       "      <th>438</th>\n",
       "      <td>47</td>\n",
       "      <td>2</td>\n",
       "      <td>24.9</td>\n",
       "      <td>75.00</td>\n",
       "      <td>225</td>\n",
       "      <td>166.0</td>\n",
       "      <td>42.0</td>\n",
       "      <td>5.00</td>\n",
       "      <td>4.4427</td>\n",
       "      <td>102</td>\n",
       "      <td>104</td>\n",
       "    </tr>\n",
       "    <tr>\n",
       "      <th>439</th>\n",
       "      <td>60</td>\n",
       "      <td>2</td>\n",
       "      <td>24.9</td>\n",
       "      <td>99.67</td>\n",
       "      <td>162</td>\n",
       "      <td>106.6</td>\n",
       "      <td>43.0</td>\n",
       "      <td>3.77</td>\n",
       "      <td>4.1271</td>\n",
       "      <td>95</td>\n",
       "      <td>132</td>\n",
       "    </tr>\n",
       "    <tr>\n",
       "      <th>440</th>\n",
       "      <td>36</td>\n",
       "      <td>1</td>\n",
       "      <td>30.0</td>\n",
       "      <td>95.00</td>\n",
       "      <td>201</td>\n",
       "      <td>125.2</td>\n",
       "      <td>42.0</td>\n",
       "      <td>4.79</td>\n",
       "      <td>5.1299</td>\n",
       "      <td>85</td>\n",
       "      <td>220</td>\n",
       "    </tr>\n",
       "    <tr>\n",
       "      <th>441</th>\n",
       "      <td>36</td>\n",
       "      <td>1</td>\n",
       "      <td>19.6</td>\n",
       "      <td>71.00</td>\n",
       "      <td>250</td>\n",
       "      <td>133.2</td>\n",
       "      <td>97.0</td>\n",
       "      <td>3.00</td>\n",
       "      <td>4.5951</td>\n",
       "      <td>92</td>\n",
       "      <td>57</td>\n",
       "    </tr>\n",
       "  </tbody>\n",
       "</table>\n",
       "<p>442 rows × 11 columns</p>\n",
       "</div>"
      ],
      "text/plain": [
       "     AGE  SEX   BMI      BP   S1     S2    S3    S4      S5   S6    Y\n",
       "0     59    2  32.1  101.00  157   93.2  38.0  4.00  4.8598   87  151\n",
       "1     48    1  21.6   87.00  183  103.2  70.0  3.00  3.8918   69   75\n",
       "2     72    2  30.5   93.00  156   93.6  41.0  4.00  4.6728   85  141\n",
       "3     24    1  25.3   84.00  198  131.4  40.0  5.00  4.8903   89  206\n",
       "4     50    1  23.0  101.00  192  125.4  52.0  4.00  4.2905   80  135\n",
       "..   ...  ...   ...     ...  ...    ...   ...   ...     ...  ...  ...\n",
       "437   60    2  28.2  112.00  185  113.8  42.0  4.00  4.9836   93  178\n",
       "438   47    2  24.9   75.00  225  166.0  42.0  5.00  4.4427  102  104\n",
       "439   60    2  24.9   99.67  162  106.6  43.0  3.77  4.1271   95  132\n",
       "440   36    1  30.0   95.00  201  125.2  42.0  4.79  5.1299   85  220\n",
       "441   36    1  19.6   71.00  250  133.2  97.0  3.00  4.5951   92   57\n",
       "\n",
       "[442 rows x 11 columns]"
      ]
     },
     "execution_count": 13,
     "metadata": {},
     "output_type": "execute_result"
    }
   ],
   "source": [
    "import pandas as pd \n",
    "import numpy as np\n",
    "from matplotlib import pyplot as plt\n",
    "import seaborn as sns\n",
    "from sklearn.linear_model import LinearRegression as lr\n",
    "from sklearn.model_selection import train_test_split as tts\n",
    "from sklearn.metrics import r2_score as r2\n",
    "\n",
    "diabetes_data = pd.read_csv('05-LinearRegression_Diabetes_Data.csv')\n",
    "# corrs= diabetes_data.corr()\n",
    "diabetes_data\n"
   ]
  },
  {
   "cell_type": "code",
   "execution_count": 19,
   "metadata": {},
   "outputs": [
    {
     "name": "stdout",
     "output_type": "stream",
     "text": [
      "Coefficients are [ 7.732 52.542]\n",
      "Training score is 0.459\n",
      "Testing score is 0.437\n"
     ]
    }
   ],
   "source": [
    "X = diabetes_data[['BMI', 'S5']]\n",
    "Y = diabetes_data['Y']\n",
    "\n",
    "X_train, X_test, Y_train, Y_test = tts(X, Y, test_size=0.2, random_state=69)\n",
    "\n",
    "linear_make = lr(fit_intercept = True)\n",
    "linear_make.fit(X_train ,Y_train)\n",
    "training_score = linear_make.score(X_train,Y_train)\n",
    "\n",
    "linear_predict = linear_make.predict(X_test)\n",
    "\n",
    "rsquared_linear = r2(Y_test,linear_predict) \n",
    "\n",
    "\n",
    "print(\"Coefficients are\",np.round(linear_make.coef_, 3))\n",
    "\n",
    "print(\"Training score is\",np.round(training_score, 3))\n",
    "print(\"Testing score is\",np.round(rsquared_linear, 3))"
   ]
  },
  {
   "cell_type": "code",
   "execution_count": 20,
   "metadata": {},
   "outputs": [],
   "source": [
    "#The coefficients are 7.732 for BMI and 52.542 for S5. This means the measure of diabetes progressions increases by\n",
    "#an average of 7.732 and 52.542, for a one unit increase in BMI and S5, respectively.\n",
    "\n",
    "#This model performs better than the model from last notebook, which used BMI and BP (Blood Pressure) \n",
    "#as predictor variables with a Training score of 0.41 and Testing score of 0.297, as both the training and testing\n",
    "#scores in this model are closer to 1"
   ]
  },
  {
   "cell_type": "markdown",
   "metadata": {},
   "source": [
    "### Exercise 2\n",
    "\n",
    "Given the following training and test sets for the \"mpg\" data, create a regression plot that shows the relationship between the mpg and weight variables. Next, fit a linear regression model to the training data. Print and interpret the regression coefficient. \n",
    "\n",
    "Next, use the model to predict the mpg values in the test data. How does the model perform according to the testing score?\n"
   ]
  },
  {
   "cell_type": "code",
   "execution_count": 48,
   "metadata": {},
   "outputs": [
    {
     "data": {
      "text/plain": [
       "<AxesSubplot:xlabel='weight', ylabel='mpg'>"
      ]
     },
     "execution_count": 48,
     "metadata": {},
     "output_type": "execute_result"
    },
    {
     "data": {
      "image/png": "[encoded data removed]",
      "text/plain": [
       "<Figure size 432x288 with 1 Axes>"
      ]
     },
     "metadata": {
      "needs_background": "light"
     },
     "output_type": "display_data"
    }
   ],
   "source": [
    "cars_x_train = pd.read_csv(\"cars_x_train.csv\", index_col= 0)\n",
    "cars_y_train = pd.read_csv(\"cars_y_train.csv\", index_col= 0)\n",
    "cars_x_test = pd.read_csv(\"cars_x_test.csv\", index_col= 0)\n",
    "cars_y_test = pd.read_csv(\"cars_y_test.csv\", index_col= 0)\n",
    "\n",
    "training_merged = pd.concat([cars_x_train, cars_y_train], axis = 1)\n",
    "\n",
    "testing_merged = pd.concat([cars_x_test, cars_y_test], axis = 1)\n",
    "\n",
    "all_cars = pd.merge(training_merged, testing_merged, how='outer')\n",
    "\n",
    "sns.regplot(data = all_cars, x= 'weight', y = 'mpg')"
   ]
  },
  {
   "cell_type": "code",
   "execution_count": 57,
   "metadata": {},
   "outputs": [
    {
     "name": "stdout",
     "output_type": "stream",
     "text": [
      "Coefficients are [[-0.015]]\n",
      "For a one unit increase in weight, the MPG is expected to decrease by 0.015 on average\n"
     ]
    }
   ],
   "source": [
    "linear = lr(fit_intercept = True)\n",
    "linear.fit(cars_x_train ,cars_y_train)\n",
    "training_score = linear.score(cars_x_train,cars_y_train)\n",
    "\n",
    "print(\"Coefficients are\",np.round(linear_make.coef_, 3))\n",
    "#For a one unit increase in weight, the MPG is expected to decrease by 0.015 on average"
   ]
  },
  {
   "cell_type": "code",
   "execution_count": 59,
   "metadata": {},
   "outputs": [
    {
     "name": "stdout",
     "output_type": "stream",
     "text": [
      "Testing score is -0.954\n"
     ]
    }
   ],
   "source": [
    "prediction_mpg = linear.predict(cars_x_test)\n",
    "\n",
    "rsquared_linear = r2(cars_y_test,prediction_mpg) \n",
    "\n",
    "print(\"Testing score is\",np.round(rsquared_linear, 3))\n",
    "\n",
    "#The negative test score indicates that the model is not a good fit for the test variables and the regression line is\n",
    "#not following the trend of the data"
   ]
  },
  {
   "cell_type": "markdown",
   "metadata": {},
   "source": [
    "### Exercise 3\n",
    "\n",
    "Use `sns.boxplot` to determine whether there are outliers in the mpg data. Next, remove the outliers from the data (hint: use `df.drop` and the `index` argument). Re-train the model and plot the regression line. Finally, use the new model to predict the mpg scores on the test data. How does the model compare to the model in exercise 2 in terms of the testing score?"
   ]
  },
  {
   "cell_type": "code",
   "execution_count": 93,
   "metadata": {},
   "outputs": [
    {
     "name": "stdout",
     "output_type": "stream",
     "text": [
      "      mpg\n",
      "375  90.0\n",
      "379  90.0\n",
      "383  90.0\n",
      "378  90.0\n",
      "322  90.0\n",
      "320  90.0\n",
      "218  90.0\n",
      "348  90.0\n"
     ]
    },
    {
     "data": {
      "image/png": "[encoded data removed]",
      "text/plain": [
       "<Figure size 432x288 with 1 Axes>"
      ]
     },
     "metadata": {
      "needs_background": "light"
     },
     "output_type": "display_data"
    }
   ],
   "source": [
    "sns.boxplot(data= [cars_y_test,cars_y_train])\n",
    "\n",
    "\n",
    "print(cars_y_train[cars_y_train['mpg'] > 50])\n",
    "\n",
    "new_cars_y_train = cars_y_train.drop(index=[375,379,383,378,322,320,218,348])\n",
    "new_cars_x_train = cars_x_train.drop(index=[375,379,383,378,322,320,218,348])"
   ]
  },
  {
   "cell_type": "code",
   "execution_count": 102,
   "metadata": {},
   "outputs": [
    {
     "data": {
      "text/plain": [
       "<AxesSubplot:xlabel='weight', ylabel='mpg'>"
      ]
     },
     "execution_count": 102,
     "metadata": {},
     "output_type": "execute_result"
    },
    {
     "data": {
      "image/png": "[encoded data removed]",
      "text/plain": [
       "<Figure size 432x288 with 1 Axes>"
      ]
     },
     "metadata": {
      "needs_background": "light"
     },
     "output_type": "display_data"
    }
   ],
   "source": [
    "linear = lr(fit_intercept = True)\n",
    "linear.fit(new_cars_x_train ,new_cars_y_train)\n",
    "training_score = linear.score(new_cars_x_train,new_cars_y_train)\n",
    "regplot_data = pd.concat([new_cars_x_train, new_cars_y_train], axis = 1)\n",
    "sns.regplot(data =regplot_data, x = 'weight', y = 'mpg')"
   ]
  },
  {
   "cell_type": "code",
   "execution_count": 103,
   "metadata": {},
   "outputs": [
    {
     "name": "stdout",
     "output_type": "stream",
     "text": [
      "Testing score is 0.656\n"
     ]
    }
   ],
   "source": [
    "prediction_mpg = linear.predict(cars_x_test)\n",
    "\n",
    "rsquared_linear = r2(cars_y_test,prediction_mpg) \n",
    "\n",
    "print(\"Testing score is\",np.round(rsquared_linear, 3))\n",
    "\n",
    "#The testing score is a lot higher than exerciseand fairly close to 1, indicating that the model fits pretty well to the testing\n",
    "#data."
   ]
  },
  {
   "cell_type": "code",
   "execution_count": null,
   "metadata": {},
   "outputs": [],
   "source": []
  }
 ],
 "metadata": {
  "kernelspec": {
   "display_name": "Python 3 (ipykernel)",
   "language": "python",
   "name": "python3"
  },
  "language_info": {
   "codemirror_mode": {
    "name": "ipython",
    "version": 3
   },
   "file_extension": ".py",
   "mimetype": "text/x-python",
   "name": "python",
   "nbconvert_exporter": "python",
   "pygments_lexer": "ipython3",
   "version": "3.9.7"
  }
 },
 "nbformat": 4,
 "nbformat_minor": 4
}
