{
 "cells": [
  {
   "cell_type": "markdown",
   "metadata": {},
   "source": [
    "## Week 3 Exercises"
   ]
  },
  {
   "cell_type": "markdown",
   "metadata": {},
   "source": [
    "### Exercise 1"
   ]
  },
  {
   "cell_type": "markdown",
   "metadata": {},
   "source": [
    "Use `math.gcd()` to create and print a list of all the primes up to 100. If a number is prime, then it is not divisible by all the smaller primes. Initialize your list with 2, start your search at 3, and use `list.append()` to add numbers to the list. You should use the function `max`."
   ]
  },
  {
   "cell_type": "code",
   "execution_count": 5,
   "metadata": {
    "scrolled": false
   },
   "outputs": [
    {
     "name": "stdout",
     "output_type": "stream",
     "text": [
      "[2, 3, 5, 7, 11, 13, 17, 19, 23, 29, 31, 37, 41, 43, 47, 53, 59, 61, 67, 71, 73, 79, 83, 89, 97]\n"
     ]
    }
   ],
   "source": [
    "import math \n",
    "primes = [2]\n",
    "search = range(3,101)\n",
    "\n",
    "for x in search:\n",
    "\n",
    "    divisors = []\n",
    "    for n in primes:\n",
    "        divisors.append(math.gcd(x,n))\n",
    "       \n",
    "        \n",
    "    if max(divisors) == 1:\n",
    "        primes.append(x)\n",
    "print(primes)            \n",
    "    \n"
   ]
  },
  {
   "cell_type": "markdown",
   "metadata": {},
   "source": [
    "### Exercise 2"
   ]
  },
  {
   "cell_type": "markdown",
   "metadata": {},
   "source": [
    "For the function $f(x) = 4\\cos(3x)$, calculate the derivative and the approximation to the derivative $(f(x+h)-f(x-h))/(2h)$. Using $h=0.01$ find the maximum absolute difference between the derivative and the approximation for $x=[0,0.01,0.02,0.03,\\dots,1.]$. You should use the functions `range`, `max` and `abs`."
   ]
  },
  {
   "cell_type": "code",
   "execution_count": 15,
   "metadata": {},
   "outputs": [
    {
     "name": "stdout",
     "output_type": "stream",
     "text": [
      "11.998100892676732\n"
     ]
    }
   ],
   "source": [
    "#deriv = -12*math.sin(3*x)\n",
    "#approx = (4*math.cos(3*(x + 0.01))-4*math.cos(3*(x -0.01)))/2*0.01\n",
    "import math\n",
    "import numpy as np\n",
    "h = 0.01\n",
    "difflist = [0]\n",
    "def f(x):\n",
    "    4*math.cos(3*x)\n",
    "\n",
    "for x in np.arange(0,1, 0.01):\n",
    "    deriv = -12*math.sin(3*x)\n",
    "    approx = (4*math.cos(3*(x + 0.01))-4*math.cos(3*(x -0.01)))/2*0.01\n",
    "    diff = abs(deriv)-abs(approx) \n",
    "    difflist.append(diff)\n",
    "\n",
    "print(max(difflist))\n",
    "    \n"
   ]
  },
  {
   "cell_type": "markdown",
   "metadata": {},
   "source": [
    "### Exercise 3"
   ]
  },
  {
   "cell_type": "markdown",
   "metadata": {},
   "source": [
    "The height of a projectile with initial position $x=0$, height $y=y_0$, speed $v=v_0$ and angle $\\theta$ to the horizontal is given by $y(x) = x\\tan(\\theta)-\\frac12 g(x/(v_0\\cos(\\theta))^2+y_0$, where $x$ is the horizontal position in m and $g$ is the acceleration of gravity. For $\\theta = 45^\\circ$, $v_0 = 10 ms^{-1}$, $g=9.81 ms^{-2}$ and $y_0 = 10 m$, print the height of the projectile at $x=[0,1,2,\\dots,10]$."
   ]
  },
  {
   "cell_type": "code",
   "execution_count": 7,
   "metadata": {
    "scrolled": true
   },
   "outputs": [
    {
     "name": "stdout",
     "output_type": "stream",
     "text": [
      "At x(m):  0 , height(m) is:  \n",
      "10.0\n",
      "At x(m):  1 , height(m) is:  \n",
      "10.9019\n",
      "At x(m):  2 , height(m) is:  \n",
      "11.6076\n",
      "At x(m):  3 , height(m) is:  \n",
      "12.1171\n",
      "At x(m):  4 , height(m) is:  \n",
      "12.4304\n",
      "At x(m):  5 , height(m) is:  \n",
      "12.5475\n",
      "At x(m):  6 , height(m) is:  \n",
      "12.4684\n",
      "At x(m):  7 , height(m) is:  \n",
      "12.1931\n",
      "At x(m):  8 , height(m) is:  \n",
      "11.7216\n",
      "At x(m):  9 , height(m) is:  \n",
      "11.0539\n",
      "At x(m):  10 , height(m) is:  \n",
      "10.19\n"
     ]
    }
   ],
   "source": [
    "import math as m\n",
    "def h(x, yin, v, theta):\n",
    "    y = x*m.tan(theta)-(1/2)*9.81*(x/(v*m.cos(theta)))**2+yin\n",
    "    \n",
    "    print(round(y,5))\n",
    "yin = 10\n",
    "v = 10\n",
    "theta = m.radians(45)\n",
    "for x in range(0,11):\n",
    "    print(f\"At x(m): \", x, \", height(m) is:  \")\n",
    "    h(x,yin,v,theta) \n",
    "    \n",
    "    \n",
    "\n",
    "\n",
    "    "
   ]
  },
  {
   "cell_type": "markdown",
   "metadata": {},
   "source": [
    "### Exercise 4"
   ]
  },
  {
   "cell_type": "markdown",
   "metadata": {},
   "source": [
    "Create a (3,3) array, $E$, which has values of 1 on the main diagonal, i.e., where the row and column number are the same, and values of 0 everywhere else. You should be able to do this using `np.array()` and `np.zeros()`. Create an arbitrary (3,3) matrix and a vector of length 3, and confirm that multiplying these arrays by $E$ does not change the arrays."
   ]
  },
  {
   "cell_type": "code",
   "execution_count": 17,
   "metadata": {
    "scrolled": true
   },
   "outputs": [
    {
     "name": "stdout",
     "output_type": "stream",
     "text": [
      "[[1 2 3]\n",
      " [4 5 6]\n",
      " [7 8 9]]\n",
      "[[1 2 3]\n",
      " [4 5 6]\n",
      " [7 8 9]]\n",
      "[3 2 1]\n",
      "[3 2 1]\n"
     ]
    }
   ],
   "source": [
    "import numpy as np\n",
    "E = np.array([[1,0,0], [0,1,0],[0,0,1]])\n",
    "\n",
    "matrix = np.array([[1, 2, 3], [4, 5, 6], [7, 8, 9]])\n",
    "vector = np.array([3, 2, 1])\n",
    "\n",
    "testprod1 = E @ matrix\n",
    "testprod2 = E @ vector\n",
    "\n",
    "print(matrix)\n",
    "print(testprod1)\n",
    "print(vector) \n",
    "print(testprod2)\n"
   ]
  },
  {
   "cell_type": "markdown",
   "metadata": {},
   "source": [
    "### Exercise 5"
   ]
  },
  {
   "cell_type": "markdown",
   "metadata": {},
   "source": [
    "Repeat Exercise 3, but use `np.linspace()` to create 21 evenly spaced values of $x$ in the range $0\\le x\\le 10$. You should not need to use a loop to calculate the $y$ values.\n"
   ]
  },
  {
   "cell_type": "code",
   "execution_count": 18,
   "metadata": {},
   "outputs": [
    {
     "name": "stdout",
     "output_type": "stream",
     "text": [
      "X:  [ 0.   0.5  1.   1.5  2.   2.5  3.   3.5  4.   4.5  5.   5.5  6.   6.5\n",
      "  7.   7.5  8.   8.5  9.   9.5 10. ]\n",
      "Y:  [10.       10.475475 10.9019   11.279275 11.6076   11.886875 12.1171\n",
      " 12.298275 12.4304   12.513475 12.5475   12.532475 12.4684   12.355275\n",
      " 12.1931   11.981875 11.7216   11.412275 11.0539   10.646475 10.19    ]\n"
     ]
    }
   ],
   "source": [
    "import math as m\n",
    "import numpy as np\n",
    "def h(x, yin, v, theta):\n",
    "    y = x*m.tan(theta)-(1/2)*9.81*(x/(v*m.cos(theta)))**2+yin\n",
    "    \n",
    "    print(\"X: \", x)\n",
    "    print(\"Y: \", y)\n",
    "    \n",
    "yin = 10\n",
    "v = 10\n",
    "theta = m.radians(45)\n",
    "x = np.linspace(0,10,21)\n",
    "\n",
    "h(x,yin,v,theta)\n",
    "    \n",
    "\n"
   ]
  },
  {
   "cell_type": "code",
   "execution_count": null,
   "metadata": {},
   "outputs": [],
   "source": []
  }
 ],
 "metadata": {
  "kernelspec": {
   "display_name": "Python 3 (ipykernel)",
   "language": "python",
   "name": "python3"
  },
  "language_info": {
   "codemirror_mode": {
    "name": "ipython",
    "version": 3
   },
   "file_extension": ".py",
   "mimetype": "text/x-python",
   "name": "python",
   "nbconvert_exporter": "python",
   "pygments_lexer": "ipython3",
   "version": "3.9.7"
  }
 },
 "nbformat": 4,
 "nbformat_minor": 2
}
