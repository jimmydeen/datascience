{
 "cells": [
  {
   "cell_type": "markdown",
   "metadata": {},
   "source": [
    "## Exercises"
   ]
  },
  {
   "cell_type": "markdown",
   "metadata": {},
   "source": [
    "### Exercise 1 (Sets)"
   ]
  },
  {
   "cell_type": "markdown",
   "metadata": {},
   "source": [
    "In the following cell:\n",
    "* Add `4` to `set1`,\n",
    "* Remove `2` from `set1`,\n",
    "* Return a random element from `set1`.\n",
    "* Calculate the difference of `a` from `b`.\n",
    "* Determine whether `a` or `b` are a subset of the final version of `set1`.\n"
   ]
  },
  {
   "cell_type": "code",
   "execution_count": 15,
   "metadata": {},
   "outputs": [
    {
     "name": "stdout",
     "output_type": "stream",
     "text": [
      "{1, 2, 3, 4, 5, 8, 9, -1}\n",
      "{1, 3, 4, 5, 8, 9, -1}\n",
      "1\n",
      "{1, 2}\n",
      "False\n",
      "True\n"
     ]
    }
   ],
   "source": [
    "set1 = {9,1,-1,5,2,8,3, 8}\n",
    "a = {1,2,3}\n",
    "b = {3,4,5}\n",
    "\n",
    "set1.add(4)\n",
    "print(set1)\n",
    "\n",
    "set1.remove(2)\n",
    "print(set1)\n",
    "\n",
    "x = set1.pop()\n",
    "print(x)\n",
    "\n",
    "print(a.difference(b))\n",
    "\n",
    "print(a.issubset(set1))\n",
    "\n",
    "print(b.issubset(set1))\n"
   ]
  },
  {
   "cell_type": "markdown",
   "metadata": {},
   "source": [
    "### Exercise 2 (Lists)"
   ]
  },
  {
   "cell_type": "markdown",
   "metadata": {},
   "source": [
    "In the following cell:\n",
    "* Sort my_list in reverse order,\n",
    "* Change the fourth element to 'W',\n",
    "* Print the last two elements in reverse order."
   ]
  },
  {
   "cell_type": "code",
   "execution_count": 26,
   "metadata": {},
   "outputs": [
    {
     "name": "stdout",
     "output_type": "stream",
     "text": [
      "['Z', 'Y', 'X', 'E', 'D', 'A']\n",
      "['Z', 'Y', 'X', 'W', 'D', 'A']\n",
      "['A', 'D']\n"
     ]
    }
   ],
   "source": [
    "my_list = ['A', 'D', 'E', 'X', 'Y', 'Z']\n",
    "\n",
    "my_list.reverse()\n",
    "print(my_list)\n",
    "\n",
    "my_list[3]='W'\n",
    "print(my_list)\n",
    "\n",
    "print(my_list[:3:-1])\n"
   ]
  },
  {
   "cell_type": "markdown",
   "metadata": {},
   "source": [
    "### Exercise 3 (Tuples and Dictionaries)"
   ]
  },
  {
   "cell_type": "markdown",
   "metadata": {},
   "source": [
    "In the following cell create a tuple of tuples with the elements (1,2,3) and (6,7,8), iterate over the outer tuple and print the inner tuples."
   ]
  },
  {
   "cell_type": "code",
   "execution_count": 3,
   "metadata": {},
   "outputs": [
    {
     "name": "stdout",
     "output_type": "stream",
     "text": [
      "1\n",
      "2\n",
      "3\n",
      "6\n",
      "7\n",
      "8\n"
     ]
    }
   ],
   "source": [
    "tups1 = (1,2,3)\n",
    "tups2 = (6,7,8)\n",
    "doubletup = (tups1, tups2)\n",
    "for tup in doubletup: \n",
    "    for element in tup:\n",
    "        print(element)"
   ]
  },
  {
   "cell_type": "markdown",
   "metadata": {},
   "source": [
    "In the following cell create a dictionary for yourself and two other people with the keys Date of Birth, Place of Birth and Eye Colour. Create a list of the dictionaries, iterate over the three dictionaries and print the eye colour for each."
   ]
  },
  {
   "cell_type": "code",
   "execution_count": 40,
   "metadata": {},
   "outputs": [
    {
     "name": "stdout",
     "output_type": "stream",
     "text": [
      "JD's Eye Colour Is: \n",
      "Black\n",
      "Ali's Eye Colour Is: \n",
      "Green\n",
      "Myles's Eye Colour Is: \n",
      "Brown\n"
     ]
    }
   ],
   "source": [
    "#my_dictionary = {\"my_key\":1, 'another_key':2}\n",
    "my_dictionary = {\n",
    "    \"JD\": {\"Date of Birth\": \"07/09/2000\",\n",
    "    \"Place of Birth\": \"Seoul\",\n",
    "    \"Eye Colour\": \"Black\"},\n",
    "    \"Ali\": {\"Date of Birth\": \"08/09/2000\",\n",
    "            \"Place of Birth\": \"Melbourne\",\n",
    "            \"Eye Colour\": \"Green\"},\n",
    "    \"Myles\": {\"Date of Birth\": \"06/03/2000\",\n",
    "             \"Place of Birth\": \"Melbourne\",\n",
    "             \"Eye Colour\": \"Brown\"}\n",
    "}\n",
    "\n",
    "for n, p in my_dictionary.items():\n",
    "    print(n + \"'s Eye Colour Is: \")\n",
    "    for keys in p:\n",
    "        print(p[\"Eye Colour\"])\n",
    "        break"
   ]
  },
  {
   "cell_type": "markdown",
   "metadata": {},
   "source": [
    "### Exercise 4 (Functions)"
   ]
  },
  {
   "cell_type": "markdown",
   "metadata": {},
   "source": [
    "In the following cell create a function for which the input is a list and output is another list with the unique elements of the list. Your function should include a `docstring` to explain the function. Test the function on the list [1,2,3,3,4,4,8,-1]."
   ]
  },
  {
   "cell_type": "code",
   "execution_count": 61,
   "metadata": {},
   "outputs": [
    {
     "name": "stdout",
     "output_type": "stream",
     "text": [
      "[1, 2, 8, -1]\n"
     ]
    }
   ],
   "source": [
    "\n",
    "outList = []\n",
    "\n",
    "def uniqueElements(inlist):\n",
    "    '''Takes an input list and outputs another list with the unique elements of the input list'''\n",
    "    for element in inlist:\n",
    "        if inlist.count(element) == 1:\n",
    "            outList.append(n)\n",
    "    print(outList)\n",
    "    \n",
    "uniqueElements([1,2,3,3,4,4,8,-1])\n",
    "\n",
    "        "
   ]
  },
  {
   "cell_type": "markdown",
   "metadata": {},
   "source": [
    "### Exercise 5 (Lambda Functions)"
   ]
  },
  {
   "cell_type": "markdown",
   "metadata": {},
   "source": [
    "In the following cell write a lambda function which finds the average of a list of numbers. Your function should use the `sum` and `len` functions. Test the function on the list [1,2,3,3,4,4,8,-1]."
   ]
  },
  {
   "cell_type": "code",
   "execution_count": 69,
   "metadata": {},
   "outputs": [
    {
     "name": "stdout",
     "output_type": "stream",
     "text": [
      "3.0\n"
     ]
    }
   ],
   "source": [
    "my_list = [1,2,3,3,4,4,8,-1]\n",
    "\n",
    "average = lambda a : sum(a) / len(a)\n",
    "\n",
    "print(average(my_list))"
   ]
  },
  {
   "cell_type": "markdown",
   "metadata": {},
   "source": []
  }
 ],
 "metadata": {
  "kernelspec": {
   "display_name": "Python 3 (ipykernel)",
   "language": "python",
   "name": "python3"
  },
  "language_info": {
   "codemirror_mode": {
    "name": "ipython",
    "version": 3
   },
   "file_extension": ".py",
   "mimetype": "text/x-python",
   "name": "python",
   "nbconvert_exporter": "python",
   "pygments_lexer": "ipython3",
   "version": "3.9.7"
  }
 },
 "nbformat": 4,
 "nbformat_minor": 2
}
