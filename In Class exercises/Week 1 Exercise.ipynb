{
 "cells": [
  {
   "cell_type": "markdown",
   "metadata": {},
   "source": [
    "### Exercises -- Week 1\n",
    "\n",
    "Please enter your solution in the cell below each exercise."
   ]
  },
  {
   "cell_type": "markdown",
   "metadata": {},
   "source": [
    "### Exercise 1\n",
    "\n",
    "For the numbers 13 and 22 write a script which tests whether the number is even or odd, and then prints out\n",
    "a statement such as:\n",
    "\n",
    "The number 13 is odd. (The print statement should use a variable, rather than an actual number.)\n",
    "\n",
    "Your solution should involve a for loop, an array, the % operator and an if-else statement."
   ]
  },
  {
   "cell_type": "code",
   "execution_count": 14,
   "metadata": {
    "scrolled": true
   },
   "outputs": [
    {
     "name": "stdout",
     "output_type": "stream",
     "text": [
      "The number 13 is odd\n",
      "The number 22 is even\n"
     ]
    }
   ],
   "source": [
    "numbers = [13,22]\n",
    "for i in numbers:\n",
    "    if (i%2==0): \n",
    "        print(\"The number \" + str(i) + \" is even\")\n",
    "    else:\n",
    "        print(\"The number \" + str(i) + \" is odd\")"
   ]
  },
  {
   "cell_type": "markdown",
   "metadata": {},
   "source": [
    "### Exercise 2\n",
    "\n",
    "Use a for loop to calculate the factorial of 9 and print out the result."
   ]
  },
  {
   "cell_type": "code",
   "execution_count": 65,
   "metadata": {},
   "outputs": [
    {
     "name": "stdout",
     "output_type": "stream",
     "text": [
      "362880\n"
     ]
    }
   ],
   "source": [
    "fac = 1\n",
    "for i in range (0,9) :\n",
    "    \n",
    "    fac = (fac * (i+1)) \n",
    "\n",
    "    \n",
    "print(fac)\n",
    "    "
   ]
  },
  {
   "cell_type": "markdown",
   "metadata": {},
   "source": [
    "### Exercise 3\n",
    "\n",
    "For the string 'Supercalifragilisticexpialidocious', print the string in reverse order, print strings consisting of the characters in the odd and even positions, and find the number of occurences of the vowels in the string (you should loop over the vowels and use the `count()` method). Your answers should be explained and formatted using print statements."
   ]
  },
  {
   "cell_type": "code",
   "execution_count": 88,
   "metadata": {},
   "outputs": [
    {
     "name": "stdout",
     "output_type": "stream",
     "text": [
      "Reverse order : suoicodilaipxecitsiligarfilacrepuS\n",
      "Odd positions : Sprairglsiepaioiu\n",
      "Even positions : ueclfaiitcxildcos\n",
      "There are 16 vowels in Supercalifragilisticexpialidocious\n"
     ]
    }
   ],
   "source": [
    "x = 'Supercalifragilisticexpialidocious'\n",
    "\n",
    "print(\"Reverse order : \" + x[::-1])\n",
    "\n",
    "print(\"Odd positions : \" + x[::2])\n",
    "\n",
    "print(\"Even positions : \" + x[1::2])\n",
    "\n",
    "vowels = \"aeiou\"\n",
    "\n",
    "numberOfVowels = 0\n",
    "\n",
    "for letters in vowels:\n",
    "    numberOfVowels = x.count(letters) + numberOfVowels\n",
    "    \n",
    "print(\"There are \" + str(numberOfVowels) + \" vowels in \" + x)\n",
    "    "
   ]
  },
  {
   "cell_type": "markdown",
   "metadata": {},
   "source": [
    "### Exercise 4\n",
    "\n",
    "Use a for loop to print the 10 by 10 multiplication table."
   ]
  },
  {
   "cell_type": "code",
   "execution_count": 1,
   "metadata": {},
   "outputs": [
    {
     "name": "stdout",
     "output_type": "stream",
     "text": [
      "1  2  3  4  5  6  7  8  9  10\n",
      "2  4  6  8  10  12  14  16  18  20\n",
      "3  6  9  12  15  18  21  24  27  30\n",
      "4  8  12  16  20  24  28  32  36  40\n",
      "5  10  15  20  25  30  35  40  45  50\n",
      "6  12  18  24  30  36  42  48  54  60\n",
      "7  14  21  28  35  42  49  56  63  70\n",
      "8  16  24  32  40  48  56  64  72  80\n",
      "9  18  27  36  45  54  63  72  81  90\n",
      "10  20  30  40  50  60  70  80  90  100\n"
     ]
    }
   ],
   "source": [
    "for n in range(1,11):\n",
    "    \n",
    "    one = 1 * n\n",
    "    two = 2 * n\n",
    "    three = 3 * n\n",
    "    four = 4 * n\n",
    "    five = 5 * n\n",
    "    six = 6 * n\n",
    "    seven = 7 * n\n",
    "    eight = 8 * n\n",
    "    nine = 9 * n\n",
    "    ten = 10 * n\n",
    "    \n",
    "    print(one, two, three, four, five, six, seven, eight, nine, ten, sep = '  ')\n",
    "    "
   ]
  },
  {
   "cell_type": "markdown",
   "metadata": {},
   "source": [
    "### Exercise 5\n",
    "\n",
    "Given an integer 260221 reverse the order and print the output, i.e., 122062."
   ]
  },
  {
   "cell_type": "code",
   "execution_count": 189,
   "metadata": {},
   "outputs": [
    {
     "name": "stdout",
     "output_type": "stream",
     "text": [
      "122062\n"
     ]
    }
   ],
   "source": [
    "print(str(260221)[::-1])"
   ]
  },
  {
   "cell_type": "code",
   "execution_count": null,
   "metadata": {},
   "outputs": [],
   "source": []
  }
 ],
 "metadata": {
  "kernelspec": {
   "display_name": "Python 3 (ipykernel)",
   "language": "python",
   "name": "python3"
  },
  "language_info": {
   "codemirror_mode": {
    "name": "ipython",
    "version": 3
   },
   "file_extension": ".py",
   "mimetype": "text/x-python",
   "name": "python",
   "nbconvert_exporter": "python",
   "pygments_lexer": "ipython3",
   "version": "3.9.7"
  }
 },
 "nbformat": 4,
 "nbformat_minor": 2
}
